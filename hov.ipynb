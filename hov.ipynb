{
 "cells": [
  {
   "cell_type": "code",
   "execution_count": 3,
   "metadata": {},
   "outputs": [
    {
     "name": "stdout",
     "output_type": "stream",
     "text": [
      "10001, Abend\n",
      "20041, Jocketa\n"
     ]
    }
   ],
   "source": [
    "import csv\n",
    "with open(\"hov_id.tsv\") as tsvfile:\n",
    "    tsvreader = csv.reader(tsvfile, delimiter=\"\\t\")\n",
    "    for line in tsvreader:\n",
    "        try:\n",
    "            print (line[0]+\", \"+line[1])\n",
    "            \n",
    "            tsvreader_dupl = csv.reader(tsvfile, delimiter=\"\\t\")\n",
    "            for linecheck in tsvreader_dupl:   \n",
    "                if line[0] == linecheck[0] and line[1] != linecheck[1]:\n",
    "                    print(linecheck[0]+\", \"+linecheck[1])\n",
    "                \n",
    "        except IndexError:\n",
    "            pass\n",
    "            "
   ]
  },
  {
   "cell_type": "code",
   "execution_count": 4,
   "metadata": {},
   "outputs": [
    {
     "name": "stdout",
     "output_type": "stream",
     "text": [
      "<_csv.reader object at 0x7f289467bf98>\n"
     ]
    }
   ],
   "source": [
    "print(tsvreader)"
   ]
  },
  {
   "cell_type": "code",
   "execution_count": null,
   "metadata": {},
   "outputs": [],
   "source": []
  },
  {
   "cell_type": "code",
   "execution_count": 1,
   "metadata": {},
   "outputs": [],
   "source": [
    "from lxml import html\n",
    "import requests\n",
    "from SPARQLWrapper import SPARQLWrapper, JSON\n",
    "import re\n",
    "import urllib.parse\n",
    "import urllib.request, json\n",
    "\n",
    "page = requests.get('https://hov.isgv.de/ortsliste/')\n",
    "tree = html.fromstring(page.content)\n",
    "\n",
    "orte = tree.xpath(\"//article/a\")\n",
    "\n",
    "for ort in orte:\n",
    "    try:\n",
    "        f = open('qs.tsv','a')\n",
    "        print(re.sub(\"https://hov.isgv.de/\",\"\",ort.attrib[\"href\"])+\"\\t\"+ort.text,file=f)\n",
    "    except TypeError:\n",
    "        pass\n",
    "    "
   ]
  },
  {
   "cell_type": "code",
   "execution_count": null,
   "metadata": {},
   "outputs": [],
   "source": []
  }
 ],
 "metadata": {
  "kernelspec": {
   "display_name": "wikinotebook",
   "language": "python",
   "name": "wikinotebook"
  },
  "language_info": {
   "codemirror_mode": {
    "name": "ipython",
    "version": 3
   },
   "file_extension": ".py",
   "mimetype": "text/x-python",
   "name": "python",
   "nbconvert_exporter": "python",
   "pygments_lexer": "ipython3",
   "version": "3.6.8"
  }
 },
 "nbformat": 4,
 "nbformat_minor": 2
}
